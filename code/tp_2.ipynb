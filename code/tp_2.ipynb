{
 "cells": [
  {
   "cell_type": "code",
   "execution_count": 1,
   "metadata": {},
   "outputs": [
    {
     "name": "stdout",
     "output_type": "stream",
     "text": [
      "📥 Cargando modelos de google...\n",
      "→ Obtenidos 997 modelos (total: 997)\n",
      "📥 Cargando modelos de facebook...\n",
      "→ Obtenidos 1000 modelos (total: 1000)\n",
      "→ Obtenidos 1000 modelos (total: 2000)\n",
      "→ Obtenidos 154 modelos (total: 2154)\n",
      "📥 Cargando modelos de microsoft...\n",
      "→ Obtenidos 381 modelos (total: 381)\n",
      "📥 Cargando modelos de Salesforce...\n",
      "→ Obtenidos 157 modelos (total: 157)\n",
      "✅ models_filtered.csv creado.\n",
      "✅ tags_filtered.csv creado.\n"
     ]
    }
   ],
   "source": [
    "import requests\n",
    "import pandas as pd\n",
    "import time\n",
    "\n",
    "# Solo organizaciones con ticker en Yahoo Finance\n",
    "ORGS_WITH_TICKER = {\n",
    "    \"google\": \"GOOGL\",\n",
    "    \"facebook\": \"META\",\n",
    "    \"microsoft\": \"MSFT\",\n",
    "    \"Salesforce\": \"CRM\"\n",
    "}\n",
    "\n",
    "API_MODELS = \"https://huggingface.co/api/models\"\n",
    "LIMIT = 1000  # Máximo por request\n",
    "\n",
    "def fetch_all_models_for_org(org: str):\n",
    "    print(f\"📥 Cargando modelos de {org}...\")\n",
    "    models = []\n",
    "    skip = 0\n",
    "    while True:\n",
    "        params = {\n",
    "            \"author\": org,\n",
    "            \"limit\": LIMIT,\n",
    "            \"skip\": skip,\n",
    "            \"full\": \"true\"\n",
    "        }\n",
    "        response = requests.get(API_MODELS, params=params)\n",
    "        if response.status_code != 200:\n",
    "            print(f\"❌ Error obteniendo datos de {org} en skip={skip}\")\n",
    "            break\n",
    "        data = response.json()\n",
    "        if not data:\n",
    "            break\n",
    "        models.extend(data)\n",
    "        print(f\"→ Obtenidos {len(data)} modelos (total: {len(models)})\")\n",
    "        skip += LIMIT\n",
    "        time.sleep(0.3)  # Para evitar rate limit\n",
    "    return models\n",
    "\n",
    "# Descargar modelos\n",
    "all_models = []\n",
    "for org in ORGS_WITH_TICKER:\n",
    "    org_models = fetch_all_models_for_org(org)\n",
    "    for model in org_models:\n",
    "        model['ticker'] = ORGS_WITH_TICKER[org]\n",
    "    all_models.extend(org_models)\n",
    "\n",
    "# Convertir a DataFrame\n",
    "df_models = pd.json_normalize(all_models)\n",
    "df_models.drop_duplicates(subset=\"modelId\", inplace=True)\n",
    "\n",
    "# Guardar CSV de modelos\n",
    "df_models.drop(columns=[\"tags\"]).to_csv(\"models_filtered.csv\", index=False)\n",
    "print(\"✅ models_filtered.csv creado.\")\n",
    "\n",
    "# Expandir tags\n",
    "tags_rows = []\n",
    "for _, row in df_models.iterrows():\n",
    "    if isinstance(row[\"tags\"], list):\n",
    "        for tag in row[\"tags\"]:\n",
    "            tags_rows.append({\"modelId\": row[\"modelId\"], \"tag\": tag})\n",
    "df_tags = pd.DataFrame(tags_rows)\n",
    "df_tags.to_csv(\"tags_filtered.csv\", index=False)\n",
    "print(\"✅ tags_filtered.csv creado.\")\n"
   ]
  },
  {
   "cell_type": "code",
   "execution_count": null,
   "metadata": {},
   "outputs": [],
   "source": []
  }
 ],
 "metadata": {
  "kernelspec": {
   "display_name": "ETL---BigQuery-KgxAzkh0",
   "language": "python",
   "name": "python3"
  },
  "language_info": {
   "codemirror_mode": {
    "name": "ipython",
    "version": 3
   },
   "file_extension": ".py",
   "mimetype": "text/x-python",
   "name": "python",
   "nbconvert_exporter": "python",
   "pygments_lexer": "ipython3",
   "version": "3.13.2"
  }
 },
 "nbformat": 4,
 "nbformat_minor": 2
}
