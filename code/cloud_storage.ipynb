{
  "cells": [
    {
      "attachments": {},
      "cell_type": "markdown",
      "metadata": {
        "colab": {
          "base_uri": "https://localhost:8080/"
        },
        "id": "kH2pZDGs8GLT",
        "outputId": "0a790e06-1262-4f84-a181-09f08db19c77"
      },
      "source": [
        "# Cloud Storage"
      ]
    },
    {
      "cell_type": "code",
      "execution_count": 1,
      "metadata": {
        "id": "sRISs0cH-l50"
      },
      "outputs": [],
      "source": [
        "import sqlite3\n",
        "# librería para manipular dataframes\n",
        "import pandas as pd\n",
        "# librería para manipular fechas\n",
        "import datetime as dt\n",
        "# librería para conectar a Google Cloud Platform\n",
        "from google.cloud import storage"
      ]
    },
    {
      "cell_type": "code",
      "execution_count": 2,
      "metadata": {},
      "outputs": [
        {
          "data": {
            "text/html": [
              "<div>\n",
              "<style scoped>\n",
              "    .dataframe tbody tr th:only-of-type {\n",
              "        vertical-align: middle;\n",
              "    }\n",
              "\n",
              "    .dataframe tbody tr th {\n",
              "        vertical-align: top;\n",
              "    }\n",
              "\n",
              "    .dataframe thead th {\n",
              "        text-align: right;\n",
              "    }\n",
              "</style>\n",
              "<table border=\"1\" class=\"dataframe\">\n",
              "  <thead>\n",
              "    <tr style=\"text-align: right;\">\n",
              "      <th></th>\n",
              "      <th>Date</th>\n",
              "      <th>Close</th>\n",
              "      <th>High</th>\n",
              "      <th>Low</th>\n",
              "      <th>Open</th>\n",
              "      <th>Volume</th>\n",
              "      <th>Empresa</th>\n",
              "      <th>TKT</th>\n",
              "    </tr>\n",
              "  </thead>\n",
              "  <tbody>\n",
              "    <tr>\n",
              "      <th>0</th>\n",
              "      <td>2024-01-02 00:00:00</td>\n",
              "      <td>184.290405</td>\n",
              "      <td>187.070052</td>\n",
              "      <td>182.553128</td>\n",
              "      <td>185.789422</td>\n",
              "      <td>82488700</td>\n",
              "      <td>Apple</td>\n",
              "      <td>AAPL</td>\n",
              "    </tr>\n",
              "    <tr>\n",
              "      <th>1</th>\n",
              "      <td>2024-01-03 00:00:00</td>\n",
              "      <td>182.910538</td>\n",
              "      <td>184.528693</td>\n",
              "      <td>182.096492</td>\n",
              "      <td>182.880757</td>\n",
              "      <td>58414500</td>\n",
              "      <td>Apple</td>\n",
              "      <td>AAPL</td>\n",
              "    </tr>\n",
              "    <tr>\n",
              "      <th>2</th>\n",
              "      <td>2024-01-04 00:00:00</td>\n",
              "      <td>180.587540</td>\n",
              "      <td>181.758954</td>\n",
              "      <td>179.565029</td>\n",
              "      <td>180.825785</td>\n",
              "      <td>71983600</td>\n",
              "      <td>Apple</td>\n",
              "      <td>AAPL</td>\n",
              "    </tr>\n",
              "    <tr>\n",
              "      <th>3</th>\n",
              "      <td>2024-01-05 00:00:00</td>\n",
              "      <td>179.862823</td>\n",
              "      <td>181.431339</td>\n",
              "      <td>178.860172</td>\n",
              "      <td>180.666948</td>\n",
              "      <td>62303300</td>\n",
              "      <td>Apple</td>\n",
              "      <td>AAPL</td>\n",
              "    </tr>\n",
              "    <tr>\n",
              "      <th>4</th>\n",
              "      <td>2024-01-08 00:00:00</td>\n",
              "      <td>184.210983</td>\n",
              "      <td>184.250701</td>\n",
              "      <td>180.180502</td>\n",
              "      <td>180.766209</td>\n",
              "      <td>59144500</td>\n",
              "      <td>Apple</td>\n",
              "      <td>AAPL</td>\n",
              "    </tr>\n",
              "  </tbody>\n",
              "</table>\n",
              "</div>"
            ],
            "text/plain": [
              "                  Date       Close        High         Low        Open  \\\n",
              "0  2024-01-02 00:00:00  184.290405  187.070052  182.553128  185.789422   \n",
              "1  2024-01-03 00:00:00  182.910538  184.528693  182.096492  182.880757   \n",
              "2  2024-01-04 00:00:00  180.587540  181.758954  179.565029  180.825785   \n",
              "3  2024-01-05 00:00:00  179.862823  181.431339  178.860172  180.666948   \n",
              "4  2024-01-08 00:00:00  184.210983  184.250701  180.180502  180.766209   \n",
              "\n",
              "     Volume Empresa   TKT  \n",
              "0  82488700   Apple  AAPL  \n",
              "1  58414500   Apple  AAPL  \n",
              "2  71983600   Apple  AAPL  \n",
              "3  62303300   Apple  AAPL  \n",
              "4  59144500   Apple  AAPL  "
            ]
          },
          "execution_count": 2,
          "metadata": {},
          "output_type": "execute_result"
        }
      ],
      "source": [
        "#Me conecto a la Base de Datos\n",
        "conn = sqlite3.connect('../local/database/stock_db.db')\n",
        "main_table = pd.read_sql_query(\"SELECT * FROM main\", conn)\n",
        "main_table.head()"
      ]
    },
    {
      "cell_type": "code",
      "execution_count": 8,
      "metadata": {
        "id": "l_tkEsbWDusy"
      },
      "outputs": [],
      "source": [
        "# Conexión con la plataforma de Google\n",
        "storage_client = storage.Client.from_service_account_json('../local/tokens/gcp_token_clase.json')\n",
        "\n",
        "# Conexión con el bucket\n",
        "bucket = storage_client.get_bucket('bucket_example_ucema')"
      ]
    },
    {
      "cell_type": "code",
      "execution_count": 9,
      "metadata": {},
      "outputs": [
        {
          "data": {
            "text/plain": [
              "<Bucket: bucket_example_ucema>"
            ]
          },
          "execution_count": 9,
          "metadata": {},
          "output_type": "execute_result"
        }
      ],
      "source": [
        "bucket"
      ]
    },
    {
      "cell_type": "code",
      "execution_count": 10,
      "metadata": {},
      "outputs": [],
      "source": [
        "# Itera sobre los objetos en el bucket\n",
        "blobs = bucket.list_blobs()\n",
        "for blob in blobs:\n",
        "    print(blob.name)"
      ]
    },
    {
      "cell_type": "code",
      "execution_count": 16,
      "metadata": {},
      "outputs": [],
      "source": [
        "# Guardo el archivo\n",
        "main_table.to_csv('../local/aux_data/main_table_aux.csv', index=False)\n",
        "# Ruta y archivo dentro del bucket donde se van a subir el dataset\n",
        "\n",
        "#Fecha y hora como string:\n",
        "datetime = dt.datetime.now().strftime(\"%Y-%m-%d %H:%M:%S\")\n",
        "\n",
        "blob = bucket.blob(f'clase2025v0_{datetime}.csv')\n",
        "\n",
        "# Ruta de donde se lee el archivo para enviar\n",
        "blob.upload_from_filename('../local/aux_data/main_table_aux.csv', content_type='text/csv')"
      ]
    },
    {
      "cell_type": "code",
      "execution_count": 17,
      "metadata": {},
      "outputs": [
        {
          "name": "stdout",
          "output_type": "stream",
          "text": [
            "clase2025_2025-06-18 00:55:09.csv\n",
            "clase2025_2025-06-18 01:20:07.csv\n",
            "clase2025v0_2025-06-18 01:26:14.csv\n"
          ]
        }
      ],
      "source": [
        "# Itera sobre los objetos en el bucket\n",
        "blobs = bucket.list_blobs()\n",
        "for blob in blobs:\n",
        "    print(blob.name)"
      ]
    },
    {
      "cell_type": "code",
      "execution_count": null,
      "metadata": {},
      "outputs": [],
      "source": []
    }
  ],
  "metadata": {
    "colab": {
      "provenance": []
    },
    "kernelspec": {
      "display_name": "Python 3",
      "language": "python",
      "name": "python3"
    },
    "language_info": {
      "codemirror_mode": {
        "name": "ipython",
        "version": 3
      },
      "file_extension": ".py",
      "mimetype": "text/x-python",
      "name": "python",
      "nbconvert_exporter": "python",
      "pygments_lexer": "ipython3",
      "version": "3.13.2"
    },
    "vscode": {
      "interpreter": {
        "hash": "270c9063d07a28851ba69880084a5f01ac42db4cf4cee14f4c49c73ecb745236"
      }
    }
  },
  "nbformat": 4,
  "nbformat_minor": 0
}
