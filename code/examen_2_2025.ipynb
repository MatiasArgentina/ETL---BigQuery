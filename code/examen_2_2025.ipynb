{
 "cells": [
  {
   "cell_type": "code",
   "execution_count": 7,
   "metadata": {},
   "outputs": [],
   "source": [
    "import pandas as pd\n",
    "from datetime import datetime, timedelta\n",
    "\n",
    "import yfinance as yf\n",
    "import requests\n",
    "import time"
   ]
  },
  {
   "cell_type": "markdown",
   "metadata": {},
   "source": [
    "# Descargo Datos"
   ]
  },
  {
   "cell_type": "code",
   "execution_count": 8,
   "metadata": {},
   "outputs": [],
   "source": [
    "# Yahoo Finance\n",
    "yf_tickers = ['AAPL', 'GOOGL', 'MSFT', 'META']\n",
    "start_date = '2025-01-01'\n",
    "end_date = '2025-06-23'\n",
    "\n",
    "def get_yf_prices(tickers, start, end):\n",
    "    data = yf.download(tickers, start=start, end=end, group_by='ticker', auto_adjust=True, progress=False)\n",
    "    daily_prices = []\n",
    "    for ticker in tickers:\n",
    "        df = data[ticker].reset_index()[['Date', 'Close']]\n",
    "        df['asset_ticker'] = ticker\n",
    "        df.rename(columns={'Date': 'date', 'Close': 'price_usd'}, inplace=True)\n",
    "        daily_prices.append(df)\n",
    "    return pd.concat(daily_prices, ignore_index=True)\n",
    "\n",
    "yf_prices_df = get_yf_prices(yf_tickers, start_date, end_date)"
   ]
  },
  {
   "cell_type": "code",
   "execution_count": 9,
   "metadata": {},
   "outputs": [],
   "source": [
    "# CoinGecko\n",
    "def get_coingecko_prices(coin_id, days=365):\n",
    "    url = f'https://api.coingecko.com/api/v3/coins/{coin_id}/market_chart'\n",
    "    params = {'vs_currency': 'usd', 'days': days, 'interval': 'daily'}\n",
    "    r = requests.get(url, params=params)\n",
    "    data = r.json()['prices']\n",
    "    df = pd.DataFrame(data, columns=['timestamp', 'price_usd'])\n",
    "    df['date'] = pd.to_datetime(df['timestamp'], unit='ms')\n",
    "    df['asset_ticker'] = coin_id.upper()\n",
    "    return df[['date', 'asset_ticker', 'price_usd']]\n",
    "\n",
    "cg_cryptos = ['bitcoin', 'ethereum']\n",
    "cg_dfs = []\n",
    "for coin in cg_cryptos:\n",
    "    cg_dfs.append(get_coingecko_prices(coin))\n",
    "    time.sleep(1)\n",
    "\n",
    "crypto_prices_df = pd.concat(cg_dfs)\n",
    "crypto_prices_df['asset_ticker'] = crypto_prices_df['asset_ticker'].replace({'BITCOIN': 'BTC', 'ETHEREUM': 'ETH'})"
   ]
  },
  {
   "cell_type": "code",
   "execution_count": 13,
   "metadata": {},
   "outputs": [
    {
     "name": "stdout",
     "output_type": "stream",
     "text": [
      "(125, 5)\n"
     ]
    },
    {
     "data": {
      "text/html": [
       "<div>\n",
       "<style scoped>\n",
       "    .dataframe tbody tr th:only-of-type {\n",
       "        vertical-align: middle;\n",
       "    }\n",
       "\n",
       "    .dataframe tbody tr th {\n",
       "        vertical-align: top;\n",
       "    }\n",
       "\n",
       "    .dataframe thead th {\n",
       "        text-align: right;\n",
       "    }\n",
       "</style>\n",
       "<table border=\"1\" class=\"dataframe\">\n",
       "  <thead>\n",
       "    <tr style=\"text-align: right;\">\n",
       "      <th></th>\n",
       "      <th>id</th>\n",
       "      <th>date</th>\n",
       "      <th>asset_ticker</th>\n",
       "      <th>type</th>\n",
       "      <th>quantity</th>\n",
       "    </tr>\n",
       "  </thead>\n",
       "  <tbody>\n",
       "    <tr>\n",
       "      <th>0</th>\n",
       "      <td>1</td>\n",
       "      <td>2025-03-07</td>\n",
       "      <td>AAPL</td>\n",
       "      <td>BUY</td>\n",
       "      <td>275</td>\n",
       "    </tr>\n",
       "    <tr>\n",
       "      <th>1</th>\n",
       "      <td>2</td>\n",
       "      <td>2025-03-19</td>\n",
       "      <td>AAPL</td>\n",
       "      <td>BUY</td>\n",
       "      <td>284</td>\n",
       "    </tr>\n",
       "    <tr>\n",
       "      <th>2</th>\n",
       "      <td>3</td>\n",
       "      <td>2025-03-21</td>\n",
       "      <td>AAPL</td>\n",
       "      <td>BUY</td>\n",
       "      <td>256</td>\n",
       "    </tr>\n",
       "    <tr>\n",
       "      <th>3</th>\n",
       "      <td>4</td>\n",
       "      <td>2025-04-11</td>\n",
       "      <td>AAPL</td>\n",
       "      <td>SELL</td>\n",
       "      <td>381</td>\n",
       "    </tr>\n",
       "    <tr>\n",
       "      <th>4</th>\n",
       "      <td>5</td>\n",
       "      <td>2025-06-06</td>\n",
       "      <td>AAPL</td>\n",
       "      <td>BUY</td>\n",
       "      <td>129</td>\n",
       "    </tr>\n",
       "  </tbody>\n",
       "</table>\n",
       "</div>"
      ],
      "text/plain": [
       "   id        date asset_ticker  type  quantity\n",
       "0   1  2025-03-07         AAPL   BUY       275\n",
       "1   2  2025-03-19         AAPL   BUY       284\n",
       "2   3  2025-03-21         AAPL   BUY       256\n",
       "3   4  2025-04-11         AAPL  SELL       381\n",
       "4   5  2025-06-06         AAPL   BUY       129"
      ]
     },
     "execution_count": 13,
     "metadata": {},
     "output_type": "execute_result"
    }
   ],
   "source": [
    "import sqlite3\n",
    "conn = sqlite3.connect('../local/examen/transactions.db')\n",
    "transactions = pd.read_sql_query(\"SELECT * FROM main\", conn)\n",
    "print(transactions.shape)\n",
    "transactions.head()"
   ]
  },
  {
   "cell_type": "markdown",
   "metadata": {},
   "source": [
    "# Ajusto Datos antes de enviar a BQ"
   ]
  },
  {
   "cell_type": "code",
   "execution_count": 16,
   "metadata": {},
   "outputs": [
    {
     "data": {
      "text/html": [
       "<div>\n",
       "<style scoped>\n",
       "    .dataframe tbody tr th:only-of-type {\n",
       "        vertical-align: middle;\n",
       "    }\n",
       "\n",
       "    .dataframe tbody tr th {\n",
       "        vertical-align: top;\n",
       "    }\n",
       "\n",
       "    .dataframe thead th {\n",
       "        text-align: right;\n",
       "    }\n",
       "</style>\n",
       "<table border=\"1\" class=\"dataframe\">\n",
       "  <thead>\n",
       "    <tr style=\"text-align: right;\">\n",
       "      <th>Price</th>\n",
       "      <th>date</th>\n",
       "      <th>price_usd</th>\n",
       "      <th>asset_ticker</th>\n",
       "    </tr>\n",
       "  </thead>\n",
       "  <tbody>\n",
       "    <tr>\n",
       "      <th>0</th>\n",
       "      <td>2025-01-02</td>\n",
       "      <td>243.263199</td>\n",
       "      <td>AAPL</td>\n",
       "    </tr>\n",
       "    <tr>\n",
       "      <th>1</th>\n",
       "      <td>2025-01-03</td>\n",
       "      <td>242.774368</td>\n",
       "      <td>AAPL</td>\n",
       "    </tr>\n",
       "    <tr>\n",
       "      <th>2</th>\n",
       "      <td>2025-01-06</td>\n",
       "      <td>244.410416</td>\n",
       "      <td>AAPL</td>\n",
       "    </tr>\n",
       "    <tr>\n",
       "      <th>3</th>\n",
       "      <td>2025-01-07</td>\n",
       "      <td>241.627136</td>\n",
       "      <td>AAPL</td>\n",
       "    </tr>\n",
       "    <tr>\n",
       "      <th>4</th>\n",
       "      <td>2025-01-08</td>\n",
       "      <td>242.115936</td>\n",
       "      <td>AAPL</td>\n",
       "    </tr>\n",
       "  </tbody>\n",
       "</table>\n",
       "</div>"
      ],
      "text/plain": [
       "Price       date   price_usd asset_ticker\n",
       "0     2025-01-02  243.263199         AAPL\n",
       "1     2025-01-03  242.774368         AAPL\n",
       "2     2025-01-06  244.410416         AAPL\n",
       "3     2025-01-07  241.627136         AAPL\n",
       "4     2025-01-08  242.115936         AAPL"
      ]
     },
     "execution_count": 16,
     "metadata": {},
     "output_type": "execute_result"
    }
   ],
   "source": [
    "yf_prices_df.head()"
   ]
  },
  {
   "cell_type": "code",
   "execution_count": 23,
   "metadata": {},
   "outputs": [
    {
     "data": {
      "text/html": [
       "<div>\n",
       "<style scoped>\n",
       "    .dataframe tbody tr th:only-of-type {\n",
       "        vertical-align: middle;\n",
       "    }\n",
       "\n",
       "    .dataframe tbody tr th {\n",
       "        vertical-align: top;\n",
       "    }\n",
       "\n",
       "    .dataframe thead th {\n",
       "        text-align: right;\n",
       "    }\n",
       "</style>\n",
       "<table border=\"1\" class=\"dataframe\">\n",
       "  <thead>\n",
       "    <tr style=\"text-align: right;\">\n",
       "      <th></th>\n",
       "      <th>date</th>\n",
       "      <th>asset_ticker</th>\n",
       "      <th>price_usd</th>\n",
       "    </tr>\n",
       "  </thead>\n",
       "  <tbody>\n",
       "    <tr>\n",
       "      <th>0</th>\n",
       "      <td>2024-07-01</td>\n",
       "      <td>BTC</td>\n",
       "      <td>62734.393839</td>\n",
       "    </tr>\n",
       "    <tr>\n",
       "      <th>1</th>\n",
       "      <td>2024-07-02</td>\n",
       "      <td>BTC</td>\n",
       "      <td>62819.822269</td>\n",
       "    </tr>\n",
       "    <tr>\n",
       "      <th>2</th>\n",
       "      <td>2024-07-03</td>\n",
       "      <td>BTC</td>\n",
       "      <td>62042.565037</td>\n",
       "    </tr>\n",
       "    <tr>\n",
       "      <th>3</th>\n",
       "      <td>2024-07-04</td>\n",
       "      <td>BTC</td>\n",
       "      <td>60244.680764</td>\n",
       "    </tr>\n",
       "    <tr>\n",
       "      <th>4</th>\n",
       "      <td>2024-07-05</td>\n",
       "      <td>BTC</td>\n",
       "      <td>57189.174124</td>\n",
       "    </tr>\n",
       "  </tbody>\n",
       "</table>\n",
       "</div>"
      ],
      "text/plain": [
       "        date asset_ticker     price_usd\n",
       "0 2024-07-01          BTC  62734.393839\n",
       "1 2024-07-02          BTC  62819.822269\n",
       "2 2024-07-03          BTC  62042.565037\n",
       "3 2024-07-04          BTC  60244.680764\n",
       "4 2024-07-05          BTC  57189.174124"
      ]
     },
     "execution_count": 23,
     "metadata": {},
     "output_type": "execute_result"
    }
   ],
   "source": [
    "mask = crypto_prices_df['date'] <= yf_prices_df['date'].max()\n",
    "mask.mean()\n",
    "crypto_prices_df = crypto_prices_df[mask]\n",
    "crypto_prices_df.head()"
   ]
  },
  {
   "cell_type": "code",
   "execution_count": 14,
   "metadata": {},
   "outputs": [
    {
     "data": {
      "text/html": [
       "<div>\n",
       "<style scoped>\n",
       "    .dataframe tbody tr th:only-of-type {\n",
       "        vertical-align: middle;\n",
       "    }\n",
       "\n",
       "    .dataframe tbody tr th {\n",
       "        vertical-align: top;\n",
       "    }\n",
       "\n",
       "    .dataframe thead th {\n",
       "        text-align: right;\n",
       "    }\n",
       "</style>\n",
       "<table border=\"1\" class=\"dataframe\">\n",
       "  <thead>\n",
       "    <tr style=\"text-align: right;\">\n",
       "      <th></th>\n",
       "      <th>date</th>\n",
       "      <th>asset_ticker</th>\n",
       "      <th>type</th>\n",
       "      <th>quantity</th>\n",
       "    </tr>\n",
       "  </thead>\n",
       "  <tbody>\n",
       "    <tr>\n",
       "      <th>0</th>\n",
       "      <td>2025-03-07</td>\n",
       "      <td>AAPL</td>\n",
       "      <td>BUY</td>\n",
       "      <td>275</td>\n",
       "    </tr>\n",
       "    <tr>\n",
       "      <th>1</th>\n",
       "      <td>2025-03-19</td>\n",
       "      <td>AAPL</td>\n",
       "      <td>BUY</td>\n",
       "      <td>284</td>\n",
       "    </tr>\n",
       "    <tr>\n",
       "      <th>2</th>\n",
       "      <td>2025-03-21</td>\n",
       "      <td>AAPL</td>\n",
       "      <td>BUY</td>\n",
       "      <td>256</td>\n",
       "    </tr>\n",
       "    <tr>\n",
       "      <th>3</th>\n",
       "      <td>2025-04-11</td>\n",
       "      <td>AAPL</td>\n",
       "      <td>SELL</td>\n",
       "      <td>381</td>\n",
       "    </tr>\n",
       "    <tr>\n",
       "      <th>4</th>\n",
       "      <td>2025-06-06</td>\n",
       "      <td>AAPL</td>\n",
       "      <td>BUY</td>\n",
       "      <td>129</td>\n",
       "    </tr>\n",
       "  </tbody>\n",
       "</table>\n",
       "</div>"
      ],
      "text/plain": [
       "         date asset_ticker  type  quantity\n",
       "0  2025-03-07         AAPL   BUY       275\n",
       "1  2025-03-19         AAPL   BUY       284\n",
       "2  2025-03-21         AAPL   BUY       256\n",
       "3  2025-04-11         AAPL  SELL       381\n",
       "4  2025-06-06         AAPL   BUY       129"
      ]
     },
     "execution_count": 14,
     "metadata": {},
     "output_type": "execute_result"
    }
   ],
   "source": [
    "transactions = transactions[['date', 'asset_ticker', 'type', 'quantity']]\n",
    "transactions.head()"
   ]
  },
  {
   "cell_type": "markdown",
   "metadata": {},
   "source": [
    "# Envio a BQ"
   ]
  },
  {
   "cell_type": "code",
   "execution_count": 24,
   "metadata": {},
   "outputs": [
    {
     "data": {
      "text/plain": [
       "<google.oauth2.service_account.Credentials at 0x124475160>"
      ]
     },
     "execution_count": 24,
     "metadata": {},
     "output_type": "execute_result"
    }
   ],
   "source": [
    "# Generamos conexion a BQ\n",
    "from google.oauth2 import service_account # para generar conexion con BigQuery\n",
    "import pandas_gbq # para interactuar con BQ\n",
    "bq_cred = service_account.Credentials.from_service_account_file('../local/tokens/gcp_token_clase.json')\n",
    "\n",
    "bq_cred"
   ]
  },
  {
   "cell_type": "code",
   "execution_count": 25,
   "metadata": {},
   "outputs": [],
   "source": [
    "# Enviamos el df a BQ\n",
    "pandas_gbq.to_gbq(yf_prices_df, 'ucema_2025.stocks', project_id= 'ucema-461612',\n",
    "                   if_exists= 'replace', credentials = bq_cred)\n",
    "\n",
    "pandas_gbq.to_gbq(crypto_prices_df, 'ucema_2025.crypto', project_id= 'ucema-461612',\n",
    "                   if_exists= 'replace', credentials = bq_cred)\n",
    "\n",
    "pandas_gbq.to_gbq(transactions, 'ucema_2025.transactions', project_id= 'ucema-461612',\n",
    "                   if_exists= 'replace', credentials = bq_cred)"
   ]
  },
  {
   "cell_type": "code",
   "execution_count": null,
   "metadata": {},
   "outputs": [],
   "source": []
  }
 ],
 "metadata": {
  "kernelspec": {
   "display_name": "ETL---BigQuery-KgxAzkh0",
   "language": "python",
   "name": "python3"
  },
  "language_info": {
   "codemirror_mode": {
    "name": "ipython",
    "version": 3
   },
   "file_extension": ".py",
   "mimetype": "text/x-python",
   "name": "python",
   "nbconvert_exporter": "python",
   "pygments_lexer": "ipython3",
   "version": "3.13.2"
  }
 },
 "nbformat": 4,
 "nbformat_minor": 2
}
