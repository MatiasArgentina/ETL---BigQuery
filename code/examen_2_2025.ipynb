{
 "cells": [
  {
   "cell_type": "code",
   "execution_count": 3,
   "metadata": {},
   "outputs": [],
   "source": [
    "import pandas as pd\n",
    "from datetime import datetime, timedelta\n",
    "\n",
    "import yfinance as yf\n",
    "import requests\n",
    "import time"
   ]
  },
  {
   "cell_type": "code",
   "execution_count": 17,
   "metadata": {},
   "outputs": [],
   "source": [
    "# Yahoo Finance\n",
    "yf_tickers = ['AAPL', 'GOOGL', 'MSFT', 'META']\n",
    "start_date = '2025-01-01'\n",
    "end_date = '2025-06-23'\n",
    "\n",
    "def get_yf_prices(tickers, start, end):\n",
    "    data = yf.download(tickers, start=start, end=end, group_by='ticker', auto_adjust=True, progress=False)\n",
    "    daily_prices = []\n",
    "    for ticker in tickers:\n",
    "        df = data[ticker].reset_index()[['Date', 'Close']]\n",
    "        df['asset_ticker'] = ticker\n",
    "        df.rename(columns={'Date': 'date', 'Close': 'price_usd'}, inplace=True)\n",
    "        daily_prices.append(df)\n",
    "    return pd.concat(daily_prices, ignore_index=True)\n",
    "\n",
    "yf_prices_df = get_yf_prices(yf_tickers, start_date, end_date)"
   ]
  },
  {
   "cell_type": "code",
   "execution_count": 14,
   "metadata": {},
   "outputs": [],
   "source": [
    "# CoinGecko\n",
    "def get_coingecko_prices(coin_id, days=365):\n",
    "    url = f'https://api.coingecko.com/api/v3/coins/{coin_id}/market_chart'\n",
    "    params = {'vs_currency': 'usd', 'days': days, 'interval': 'daily'}\n",
    "    r = requests.get(url, params=params)\n",
    "    data = r.json()['prices']\n",
    "    df = pd.DataFrame(data, columns=['timestamp', 'price_usd'])\n",
    "    df['date'] = pd.to_datetime(df['timestamp'], unit='ms')\n",
    "    df['asset_ticker'] = coin_id.upper()\n",
    "    return df[['date', 'asset_ticker', 'price_usd']]\n",
    "\n",
    "cg_cryptos = ['bitcoin', 'ethereum']\n",
    "cg_dfs = []\n",
    "for coin in cg_cryptos:\n",
    "    cg_dfs.append(get_coingecko_prices(coin))\n",
    "    time.sleep(1)\n",
    "\n",
    "crypto_prices_df = pd.concat(cg_dfs)\n",
    "crypto_prices_df['asset_ticker'] = crypto_prices_df['asset_ticker'].replace({'BITCOIN': 'BTC', 'ETHEREUM': 'ETH'})"
   ]
  }
 ],
 "metadata": {
  "kernelspec": {
   "display_name": "ETL---BigQuery-KgxAzkh0",
   "language": "python",
   "name": "python3"
  },
  "language_info": {
   "codemirror_mode": {
    "name": "ipython",
    "version": 3
   },
   "file_extension": ".py",
   "mimetype": "text/x-python",
   "name": "python",
   "nbconvert_exporter": "python",
   "pygments_lexer": "ipython3",
   "version": "3.13.2"
  }
 },
 "nbformat": 4,
 "nbformat_minor": 2
}
