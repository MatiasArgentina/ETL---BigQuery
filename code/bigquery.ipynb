{
 "cells": [
  {
   "attachments": {},
   "cell_type": "markdown",
   "metadata": {},
   "source": [
    "## Leer data de una Base de Datos"
   ]
  },
  {
   "attachments": {},
   "cell_type": "markdown",
   "metadata": {},
   "source": [
    "### Cargo Paquetes Iniciales"
   ]
  },
  {
   "cell_type": "code",
   "execution_count": 3,
   "metadata": {},
   "outputs": [],
   "source": [
    "from functions.create_db import load_data, dict_Empresas, write_sql_main\n",
    "import pandas as pd\n",
    "import datetime as dt\n",
    "import sqlite3"
   ]
  },
  {
   "cell_type": "markdown",
   "metadata": {},
   "source": [
    "### Cargo Datos (Clase Anterior)"
   ]
  },
  {
   "cell_type": "code",
   "execution_count": 4,
   "metadata": {},
   "outputs": [
    {
     "name": "stdout",
     "output_type": "stream",
     "text": [
      "YF.download() has changed argument auto_adjust default to True\n"
     ]
    },
    {
     "name": "stderr",
     "output_type": "stream",
     "text": [
      "[*********************100%***********************]  1 of 1 completed\n"
     ]
    },
    {
     "name": "stdout",
     "output_type": "stream",
     "text": [
      "Archivo Apple cargado exitosamente.\n"
     ]
    },
    {
     "name": "stderr",
     "output_type": "stream",
     "text": [
      "[*********************100%***********************]  1 of 1 completed\n"
     ]
    },
    {
     "name": "stdout",
     "output_type": "stream",
     "text": [
      "Archivo Microsoft cargado exitosamente.\n"
     ]
    },
    {
     "name": "stderr",
     "output_type": "stream",
     "text": [
      "[*********************100%***********************]  1 of 1 completed\n"
     ]
    },
    {
     "name": "stdout",
     "output_type": "stream",
     "text": [
      "Archivo Meta cargado exitosamente.\n"
     ]
    },
    {
     "name": "stderr",
     "output_type": "stream",
     "text": [
      "[*********************100%***********************]  1 of 1 completed"
     ]
    },
    {
     "name": "stdout",
     "output_type": "stream",
     "text": [
      "Archivo Tesla cargado exitosamente.\n"
     ]
    },
    {
     "name": "stderr",
     "output_type": "stream",
     "text": [
      "\n"
     ]
    }
   ],
   "source": [
    "df = load_data(dict_Empresas, start=dt.date(2024,1,1))"
   ]
  },
  {
   "cell_type": "code",
   "execution_count": 5,
   "metadata": {},
   "outputs": [
    {
     "data": {
      "text/html": [
       "<div>\n",
       "<style scoped>\n",
       "    .dataframe tbody tr th:only-of-type {\n",
       "        vertical-align: middle;\n",
       "    }\n",
       "\n",
       "    .dataframe tbody tr th {\n",
       "        vertical-align: top;\n",
       "    }\n",
       "\n",
       "    .dataframe thead th {\n",
       "        text-align: right;\n",
       "    }\n",
       "</style>\n",
       "<table border=\"1\" class=\"dataframe\">\n",
       "  <thead>\n",
       "    <tr style=\"text-align: right;\">\n",
       "      <th></th>\n",
       "      <th>Date</th>\n",
       "      <th>Close</th>\n",
       "      <th>High</th>\n",
       "      <th>Low</th>\n",
       "      <th>Open</th>\n",
       "      <th>Volume</th>\n",
       "      <th>Empresa</th>\n",
       "      <th>TKT</th>\n",
       "    </tr>\n",
       "  </thead>\n",
       "  <tbody>\n",
       "    <tr>\n",
       "      <th>0</th>\n",
       "      <td>2024-01-02</td>\n",
       "      <td>184.290405</td>\n",
       "      <td>187.070052</td>\n",
       "      <td>182.553128</td>\n",
       "      <td>185.789422</td>\n",
       "      <td>82488700</td>\n",
       "      <td>Apple</td>\n",
       "      <td>AAPL</td>\n",
       "    </tr>\n",
       "    <tr>\n",
       "      <th>1</th>\n",
       "      <td>2024-01-03</td>\n",
       "      <td>182.910538</td>\n",
       "      <td>184.528693</td>\n",
       "      <td>182.096492</td>\n",
       "      <td>182.880757</td>\n",
       "      <td>58414500</td>\n",
       "      <td>Apple</td>\n",
       "      <td>AAPL</td>\n",
       "    </tr>\n",
       "    <tr>\n",
       "      <th>2</th>\n",
       "      <td>2024-01-04</td>\n",
       "      <td>180.587540</td>\n",
       "      <td>181.758954</td>\n",
       "      <td>179.565029</td>\n",
       "      <td>180.825785</td>\n",
       "      <td>71983600</td>\n",
       "      <td>Apple</td>\n",
       "      <td>AAPL</td>\n",
       "    </tr>\n",
       "    <tr>\n",
       "      <th>3</th>\n",
       "      <td>2024-01-05</td>\n",
       "      <td>179.862823</td>\n",
       "      <td>181.431339</td>\n",
       "      <td>178.860172</td>\n",
       "      <td>180.666948</td>\n",
       "      <td>62303300</td>\n",
       "      <td>Apple</td>\n",
       "      <td>AAPL</td>\n",
       "    </tr>\n",
       "    <tr>\n",
       "      <th>4</th>\n",
       "      <td>2024-01-08</td>\n",
       "      <td>184.210983</td>\n",
       "      <td>184.250701</td>\n",
       "      <td>180.180502</td>\n",
       "      <td>180.766209</td>\n",
       "      <td>59144500</td>\n",
       "      <td>Apple</td>\n",
       "      <td>AAPL</td>\n",
       "    </tr>\n",
       "    <tr>\n",
       "      <th>...</th>\n",
       "      <td>...</td>\n",
       "      <td>...</td>\n",
       "      <td>...</td>\n",
       "      <td>...</td>\n",
       "      <td>...</td>\n",
       "      <td>...</td>\n",
       "      <td>...</td>\n",
       "      <td>...</td>\n",
       "    </tr>\n",
       "    <tr>\n",
       "      <th>349</th>\n",
       "      <td>2025-05-23</td>\n",
       "      <td>339.339996</td>\n",
       "      <td>343.179993</td>\n",
       "      <td>333.209991</td>\n",
       "      <td>337.920013</td>\n",
       "      <td>84654800</td>\n",
       "      <td>Tesla</td>\n",
       "      <td>TSLA</td>\n",
       "    </tr>\n",
       "    <tr>\n",
       "      <th>350</th>\n",
       "      <td>2025-05-27</td>\n",
       "      <td>362.890015</td>\n",
       "      <td>363.790009</td>\n",
       "      <td>347.320007</td>\n",
       "      <td>347.350006</td>\n",
       "      <td>120146400</td>\n",
       "      <td>Tesla</td>\n",
       "      <td>TSLA</td>\n",
       "    </tr>\n",
       "    <tr>\n",
       "      <th>351</th>\n",
       "      <td>2025-05-28</td>\n",
       "      <td>356.899994</td>\n",
       "      <td>365.000000</td>\n",
       "      <td>355.910004</td>\n",
       "      <td>364.839996</td>\n",
       "      <td>91404300</td>\n",
       "      <td>Tesla</td>\n",
       "      <td>TSLA</td>\n",
       "    </tr>\n",
       "    <tr>\n",
       "      <th>352</th>\n",
       "      <td>2025-05-29</td>\n",
       "      <td>358.429993</td>\n",
       "      <td>367.709991</td>\n",
       "      <td>356.000000</td>\n",
       "      <td>365.290009</td>\n",
       "      <td>88545700</td>\n",
       "      <td>Tesla</td>\n",
       "      <td>TSLA</td>\n",
       "    </tr>\n",
       "    <tr>\n",
       "      <th>353</th>\n",
       "      <td>2025-05-30</td>\n",
       "      <td>346.459991</td>\n",
       "      <td>363.679993</td>\n",
       "      <td>345.290009</td>\n",
       "      <td>355.519989</td>\n",
       "      <td>123097900</td>\n",
       "      <td>Tesla</td>\n",
       "      <td>TSLA</td>\n",
       "    </tr>\n",
       "  </tbody>\n",
       "</table>\n",
       "<p>1416 rows × 8 columns</p>\n",
       "</div>"
      ],
      "text/plain": [
       "          Date       Close        High         Low        Open     Volume  \\\n",
       "0   2024-01-02  184.290405  187.070052  182.553128  185.789422   82488700   \n",
       "1   2024-01-03  182.910538  184.528693  182.096492  182.880757   58414500   \n",
       "2   2024-01-04  180.587540  181.758954  179.565029  180.825785   71983600   \n",
       "3   2024-01-05  179.862823  181.431339  178.860172  180.666948   62303300   \n",
       "4   2024-01-08  184.210983  184.250701  180.180502  180.766209   59144500   \n",
       "..         ...         ...         ...         ...         ...        ...   \n",
       "349 2025-05-23  339.339996  343.179993  333.209991  337.920013   84654800   \n",
       "350 2025-05-27  362.890015  363.790009  347.320007  347.350006  120146400   \n",
       "351 2025-05-28  356.899994  365.000000  355.910004  364.839996   91404300   \n",
       "352 2025-05-29  358.429993  367.709991  356.000000  365.290009   88545700   \n",
       "353 2025-05-30  346.459991  363.679993  345.290009  355.519989  123097900   \n",
       "\n",
       "    Empresa   TKT  \n",
       "0     Apple  AAPL  \n",
       "1     Apple  AAPL  \n",
       "2     Apple  AAPL  \n",
       "3     Apple  AAPL  \n",
       "4     Apple  AAPL  \n",
       "..      ...   ...  \n",
       "349   Tesla  TSLA  \n",
       "350   Tesla  TSLA  \n",
       "351   Tesla  TSLA  \n",
       "352   Tesla  TSLA  \n",
       "353   Tesla  TSLA  \n",
       "\n",
       "[1416 rows x 8 columns]"
      ]
     },
     "execution_count": 5,
     "metadata": {},
     "output_type": "execute_result"
    }
   ],
   "source": [
    "df"
   ]
  },
  {
   "cell_type": "code",
   "execution_count": 7,
   "metadata": {},
   "outputs": [
    {
     "name": "stdout",
     "output_type": "stream",
     "text": [
      "Connected to SQLite\n",
      "The SQLite connection is closed\n"
     ]
    },
    {
     "data": {
      "text/plain": [
       "'ok'"
      ]
     },
     "execution_count": 7,
     "metadata": {},
     "output_type": "execute_result"
    }
   ],
   "source": [
    "write_sql_main(DB='../local_2/database/stock_db.db',\n",
    "               df = df,\n",
    "               table=\"main\")"
   ]
  },
  {
   "attachments": {},
   "cell_type": "markdown",
   "metadata": {},
   "source": [
    "### Leer Info de una Base de Datos"
   ]
  },
  {
   "cell_type": "code",
   "execution_count": 8,
   "metadata": {},
   "outputs": [],
   "source": [
    "#Me conecto a la Base de Datos\n",
    "conn = sqlite3.connect('../local/database/stock_db.db')"
   ]
  },
  {
   "cell_type": "code",
   "execution_count": 9,
   "metadata": {},
   "outputs": [
    {
     "data": {
      "text/html": [
       "<div>\n",
       "<style scoped>\n",
       "    .dataframe tbody tr th:only-of-type {\n",
       "        vertical-align: middle;\n",
       "    }\n",
       "\n",
       "    .dataframe tbody tr th {\n",
       "        vertical-align: top;\n",
       "    }\n",
       "\n",
       "    .dataframe thead th {\n",
       "        text-align: right;\n",
       "    }\n",
       "</style>\n",
       "<table border=\"1\" class=\"dataframe\">\n",
       "  <thead>\n",
       "    <tr style=\"text-align: right;\">\n",
       "      <th></th>\n",
       "      <th>name</th>\n",
       "    </tr>\n",
       "  </thead>\n",
       "  <tbody>\n",
       "    <tr>\n",
       "      <th>0</th>\n",
       "      <td>main</td>\n",
       "    </tr>\n",
       "  </tbody>\n",
       "</table>\n",
       "</div>"
      ],
      "text/plain": [
       "   name\n",
       "0  main"
      ]
     },
     "execution_count": 9,
     "metadata": {},
     "output_type": "execute_result"
    }
   ],
   "source": [
    "#¿Como ver las tablas de una BD?\n",
    "tables = pd.read_sql_query(\"SELECT name FROM sqlite_master WHERE type='table'\", conn)\n",
    "tables.head()"
   ]
  },
  {
   "cell_type": "code",
   "execution_count": 10,
   "metadata": {},
   "outputs": [
    {
     "data": {
      "text/html": [
       "<div>\n",
       "<style scoped>\n",
       "    .dataframe tbody tr th:only-of-type {\n",
       "        vertical-align: middle;\n",
       "    }\n",
       "\n",
       "    .dataframe tbody tr th {\n",
       "        vertical-align: top;\n",
       "    }\n",
       "\n",
       "    .dataframe thead th {\n",
       "        text-align: right;\n",
       "    }\n",
       "</style>\n",
       "<table border=\"1\" class=\"dataframe\">\n",
       "  <thead>\n",
       "    <tr style=\"text-align: right;\">\n",
       "      <th></th>\n",
       "      <th>Date</th>\n",
       "      <th>Close</th>\n",
       "      <th>High</th>\n",
       "      <th>Low</th>\n",
       "      <th>Open</th>\n",
       "      <th>Volume</th>\n",
       "      <th>Empresa</th>\n",
       "      <th>TKT</th>\n",
       "    </tr>\n",
       "  </thead>\n",
       "  <tbody>\n",
       "    <tr>\n",
       "      <th>0</th>\n",
       "      <td>2024-01-02 00:00:00</td>\n",
       "      <td>184.290405</td>\n",
       "      <td>187.070052</td>\n",
       "      <td>182.553128</td>\n",
       "      <td>185.789422</td>\n",
       "      <td>82488700</td>\n",
       "      <td>Apple</td>\n",
       "      <td>AAPL</td>\n",
       "    </tr>\n",
       "    <tr>\n",
       "      <th>1</th>\n",
       "      <td>2024-01-03 00:00:00</td>\n",
       "      <td>182.910538</td>\n",
       "      <td>184.528693</td>\n",
       "      <td>182.096492</td>\n",
       "      <td>182.880757</td>\n",
       "      <td>58414500</td>\n",
       "      <td>Apple</td>\n",
       "      <td>AAPL</td>\n",
       "    </tr>\n",
       "    <tr>\n",
       "      <th>2</th>\n",
       "      <td>2024-01-04 00:00:00</td>\n",
       "      <td>180.587540</td>\n",
       "      <td>181.758954</td>\n",
       "      <td>179.565029</td>\n",
       "      <td>180.825785</td>\n",
       "      <td>71983600</td>\n",
       "      <td>Apple</td>\n",
       "      <td>AAPL</td>\n",
       "    </tr>\n",
       "    <tr>\n",
       "      <th>3</th>\n",
       "      <td>2024-01-05 00:00:00</td>\n",
       "      <td>179.862823</td>\n",
       "      <td>181.431339</td>\n",
       "      <td>178.860172</td>\n",
       "      <td>180.666948</td>\n",
       "      <td>62303300</td>\n",
       "      <td>Apple</td>\n",
       "      <td>AAPL</td>\n",
       "    </tr>\n",
       "    <tr>\n",
       "      <th>4</th>\n",
       "      <td>2024-01-08 00:00:00</td>\n",
       "      <td>184.210983</td>\n",
       "      <td>184.250701</td>\n",
       "      <td>180.180502</td>\n",
       "      <td>180.766209</td>\n",
       "      <td>59144500</td>\n",
       "      <td>Apple</td>\n",
       "      <td>AAPL</td>\n",
       "    </tr>\n",
       "  </tbody>\n",
       "</table>\n",
       "</div>"
      ],
      "text/plain": [
       "                  Date       Close        High         Low        Open  \\\n",
       "0  2024-01-02 00:00:00  184.290405  187.070052  182.553128  185.789422   \n",
       "1  2024-01-03 00:00:00  182.910538  184.528693  182.096492  182.880757   \n",
       "2  2024-01-04 00:00:00  180.587540  181.758954  179.565029  180.825785   \n",
       "3  2024-01-05 00:00:00  179.862823  181.431339  178.860172  180.666948   \n",
       "4  2024-01-08 00:00:00  184.210983  184.250701  180.180502  180.766209   \n",
       "\n",
       "     Volume Empresa   TKT  \n",
       "0  82488700   Apple  AAPL  \n",
       "1  58414500   Apple  AAPL  \n",
       "2  71983600   Apple  AAPL  \n",
       "3  62303300   Apple  AAPL  \n",
       "4  59144500   Apple  AAPL  "
      ]
     },
     "execution_count": 10,
     "metadata": {},
     "output_type": "execute_result"
    }
   ],
   "source": [
    "#¿Como ver las tabla de compra_ventas?\n",
    "main_table = pd.read_sql_query(\"SELECT * FROM main\", conn)\n",
    "main_table.head()"
   ]
  },
  {
   "cell_type": "code",
   "execution_count": 11,
   "metadata": {},
   "outputs": [],
   "source": [
    "conn.close()"
   ]
  },
  {
   "cell_type": "markdown",
   "metadata": {},
   "source": [
    "## Export to csv"
   ]
  },
  {
   "cell_type": "code",
   "execution_count": 12,
   "metadata": {},
   "outputs": [],
   "source": [
    "main_table.to_csv('../local/csvs/stock_db.csv')"
   ]
  },
  {
   "attachments": {},
   "cell_type": "markdown",
   "metadata": {},
   "source": [
    "## Conexión con BigQuery"
   ]
  },
  {
   "cell_type": "code",
   "execution_count": 13,
   "metadata": {},
   "outputs": [
    {
     "data": {
      "text/plain": [
       "<google.oauth2.service_account.Credentials at 0x1240aa3c0>"
      ]
     },
     "execution_count": 13,
     "metadata": {},
     "output_type": "execute_result"
    }
   ],
   "source": [
    "# Generamos conexion a BQ\n",
    "from google.oauth2 import service_account # para generar conexion con BigQuery\n",
    "#bq_cred = service_account.Credentials.from_service_account_file('../local/tokens/gcp_token2.json')\n",
    "bq_cred = service_account.Credentials.from_service_account_file('../local/tokens/gcp_token_clase.json')\n",
    "\n",
    "bq_cred"
   ]
  },
  {
   "cell_type": "code",
   "execution_count": 14,
   "metadata": {},
   "outputs": [
    {
     "data": {
      "text/html": [
       "<div>\n",
       "<style scoped>\n",
       "    .dataframe tbody tr th:only-of-type {\n",
       "        vertical-align: middle;\n",
       "    }\n",
       "\n",
       "    .dataframe tbody tr th {\n",
       "        vertical-align: top;\n",
       "    }\n",
       "\n",
       "    .dataframe thead th {\n",
       "        text-align: right;\n",
       "    }\n",
       "</style>\n",
       "<table border=\"1\" class=\"dataframe\">\n",
       "  <thead>\n",
       "    <tr style=\"text-align: right;\">\n",
       "      <th></th>\n",
       "      <th>Date</th>\n",
       "      <th>Close</th>\n",
       "      <th>High</th>\n",
       "      <th>Low</th>\n",
       "      <th>Open</th>\n",
       "      <th>Volume</th>\n",
       "      <th>Empresa</th>\n",
       "      <th>TKT</th>\n",
       "    </tr>\n",
       "  </thead>\n",
       "  <tbody>\n",
       "    <tr>\n",
       "      <th>0</th>\n",
       "      <td>2024-01-02 00:00:00</td>\n",
       "      <td>184.290405</td>\n",
       "      <td>187.070052</td>\n",
       "      <td>182.553128</td>\n",
       "      <td>185.789422</td>\n",
       "      <td>82488700</td>\n",
       "      <td>Apple</td>\n",
       "      <td>AAPL</td>\n",
       "    </tr>\n",
       "    <tr>\n",
       "      <th>1</th>\n",
       "      <td>2024-01-03 00:00:00</td>\n",
       "      <td>182.910538</td>\n",
       "      <td>184.528693</td>\n",
       "      <td>182.096492</td>\n",
       "      <td>182.880757</td>\n",
       "      <td>58414500</td>\n",
       "      <td>Apple</td>\n",
       "      <td>AAPL</td>\n",
       "    </tr>\n",
       "    <tr>\n",
       "      <th>2</th>\n",
       "      <td>2024-01-04 00:00:00</td>\n",
       "      <td>180.587540</td>\n",
       "      <td>181.758954</td>\n",
       "      <td>179.565029</td>\n",
       "      <td>180.825785</td>\n",
       "      <td>71983600</td>\n",
       "      <td>Apple</td>\n",
       "      <td>AAPL</td>\n",
       "    </tr>\n",
       "    <tr>\n",
       "      <th>3</th>\n",
       "      <td>2024-01-05 00:00:00</td>\n",
       "      <td>179.862823</td>\n",
       "      <td>181.431339</td>\n",
       "      <td>178.860172</td>\n",
       "      <td>180.666948</td>\n",
       "      <td>62303300</td>\n",
       "      <td>Apple</td>\n",
       "      <td>AAPL</td>\n",
       "    </tr>\n",
       "    <tr>\n",
       "      <th>4</th>\n",
       "      <td>2024-01-08 00:00:00</td>\n",
       "      <td>184.210983</td>\n",
       "      <td>184.250701</td>\n",
       "      <td>180.180502</td>\n",
       "      <td>180.766209</td>\n",
       "      <td>59144500</td>\n",
       "      <td>Apple</td>\n",
       "      <td>AAPL</td>\n",
       "    </tr>\n",
       "  </tbody>\n",
       "</table>\n",
       "</div>"
      ],
      "text/plain": [
       "                  Date       Close        High         Low        Open  \\\n",
       "0  2024-01-02 00:00:00  184.290405  187.070052  182.553128  185.789422   \n",
       "1  2024-01-03 00:00:00  182.910538  184.528693  182.096492  182.880757   \n",
       "2  2024-01-04 00:00:00  180.587540  181.758954  179.565029  180.825785   \n",
       "3  2024-01-05 00:00:00  179.862823  181.431339  178.860172  180.666948   \n",
       "4  2024-01-08 00:00:00  184.210983  184.250701  180.180502  180.766209   \n",
       "\n",
       "     Volume Empresa   TKT  \n",
       "0  82488700   Apple  AAPL  \n",
       "1  58414500   Apple  AAPL  \n",
       "2  71983600   Apple  AAPL  \n",
       "3  62303300   Apple  AAPL  \n",
       "4  59144500   Apple  AAPL  "
      ]
     },
     "execution_count": 14,
     "metadata": {},
     "output_type": "execute_result"
    }
   ],
   "source": [
    "# Vemos que hay en \"main_table\"\n",
    "main_table = pd.read_csv('../local/csvs/stock_db.csv')\n",
    "main_table = main_table[['Date', 'Close', 'High', 'Low', 'Open', 'Volume', 'Empresa', 'TKT']]\n",
    "main_table.head()"
   ]
  },
  {
   "attachments": {},
   "cell_type": "markdown",
   "metadata": {},
   "source": [
    "### Cargar Datos en BQ"
   ]
  },
  {
   "cell_type": "code",
   "execution_count": 15,
   "metadata": {},
   "outputs": [],
   "source": [
    "# Enviamos el df a BQ - Podemos crear o reemplazar una tabla\n",
    "import pandas_gbq # para interactuar con BQ\n",
    "\n",
    "pandas_gbq.to_gbq(main_table, 'ucema_2025.main_from_vs_2', project_id= 'ucema-461612',\n",
    "                   if_exists= 'replace', credentials = bq_cred)"
   ]
  },
  {
   "cell_type": "code",
   "execution_count": 8,
   "metadata": {},
   "outputs": [],
   "source": [
    "# Si queremos anexar datos de una tabla en lugar de reemplazar\n",
    "pandas_gbq.to_gbq(main_table, 'ucema_2025.main_from_vs', project_id= 'ucema-461612',\n",
    "                   if_exists= 'append', credentials = bq_cred)"
   ]
  },
  {
   "cell_type": "code",
   "execution_count": 7,
   "metadata": {},
   "outputs": [],
   "source": [
    "# Renombramos la columna \"Adj Close\" a \"Adj_Close\"\n",
    "main_table = main_table.rename(columns={'Adj Close': 'Adj_Close'})\n",
    "\n",
    "pandas_gbq.to_gbq(main_table, 'ucema_2025.main_from_vs', project_id= 'ucema-461612',\n",
    "                   if_exists= 'replace', credentials = bq_cred)"
   ]
  },
  {
   "attachments": {},
   "cell_type": "markdown",
   "metadata": {},
   "source": [
    "### Leer Datos de BQ"
   ]
  },
  {
   "cell_type": "code",
   "execution_count": 12,
   "metadata": {},
   "outputs": [
    {
     "name": "stderr",
     "output_type": "stream",
     "text": [
      "/var/folders/7_/kmrlbc594d903fc6dhmzxdrm0000gn/T/ipykernel_34170/3397499726.py:3: FutureWarning: read_gbq is deprecated and will be removed in a future version. Please use pandas_gbq.read_gbq instead: https://pandas-gbq.readthedocs.io/en/latest/api.html#pandas_gbq.read_gbq\n",
      "  df_bq = pd.read_gbq(sql, project_id='ucema-461612', credentials = bq_cred, dialect='standard')\n"
     ]
    },
    {
     "data": {
      "text/html": [
       "<div>\n",
       "<style scoped>\n",
       "    .dataframe tbody tr th:only-of-type {\n",
       "        vertical-align: middle;\n",
       "    }\n",
       "\n",
       "    .dataframe tbody tr th {\n",
       "        vertical-align: top;\n",
       "    }\n",
       "\n",
       "    .dataframe thead th {\n",
       "        text-align: right;\n",
       "    }\n",
       "</style>\n",
       "<table border=\"1\" class=\"dataframe\">\n",
       "  <thead>\n",
       "    <tr style=\"text-align: right;\">\n",
       "      <th></th>\n",
       "      <th>Date</th>\n",
       "      <th>Close</th>\n",
       "      <th>High</th>\n",
       "      <th>Low</th>\n",
       "      <th>Open</th>\n",
       "      <th>Volume</th>\n",
       "      <th>Empresa</th>\n",
       "      <th>TKT</th>\n",
       "    </tr>\n",
       "  </thead>\n",
       "  <tbody>\n",
       "    <tr>\n",
       "      <th>0</th>\n",
       "      <td>2023-01-03 00:00:00</td>\n",
       "      <td>123.470619</td>\n",
       "      <td>129.226060</td>\n",
       "      <td>122.582127</td>\n",
       "      <td>128.613993</td>\n",
       "      <td>112117500</td>\n",
       "      <td>Apple</td>\n",
       "      <td>AAPL</td>\n",
       "    </tr>\n",
       "    <tr>\n",
       "      <th>1</th>\n",
       "      <td>2023-01-04 00:00:00</td>\n",
       "      <td>124.744125</td>\n",
       "      <td>127.014716</td>\n",
       "      <td>123.480495</td>\n",
       "      <td>125.267347</td>\n",
       "      <td>89113600</td>\n",
       "      <td>Apple</td>\n",
       "      <td>AAPL</td>\n",
       "    </tr>\n",
       "    <tr>\n",
       "      <th>2</th>\n",
       "      <td>2023-01-05 00:00:00</td>\n",
       "      <td>123.421249</td>\n",
       "      <td>126.136083</td>\n",
       "      <td>123.164580</td>\n",
       "      <td>125.504267</td>\n",
       "      <td>80962700</td>\n",
       "      <td>Apple</td>\n",
       "      <td>AAPL</td>\n",
       "    </tr>\n",
       "    <tr>\n",
       "      <th>3</th>\n",
       "      <td>2023-01-06 00:00:00</td>\n",
       "      <td>127.962433</td>\n",
       "      <td>128.623863</td>\n",
       "      <td>123.292924</td>\n",
       "      <td>124.398604</td>\n",
       "      <td>87754700</td>\n",
       "      <td>Apple</td>\n",
       "      <td>AAPL</td>\n",
       "    </tr>\n",
       "    <tr>\n",
       "      <th>4</th>\n",
       "      <td>2023-01-09 00:00:00</td>\n",
       "      <td>128.485687</td>\n",
       "      <td>131.704009</td>\n",
       "      <td>128.229017</td>\n",
       "      <td>128.801602</td>\n",
       "      <td>70790800</td>\n",
       "      <td>Apple</td>\n",
       "      <td>AAPL</td>\n",
       "    </tr>\n",
       "  </tbody>\n",
       "</table>\n",
       "</div>"
      ],
      "text/plain": [
       "                  Date       Close        High         Low        Open  \\\n",
       "0  2023-01-03 00:00:00  123.470619  129.226060  122.582127  128.613993   \n",
       "1  2023-01-04 00:00:00  124.744125  127.014716  123.480495  125.267347   \n",
       "2  2023-01-05 00:00:00  123.421249  126.136083  123.164580  125.504267   \n",
       "3  2023-01-06 00:00:00  127.962433  128.623863  123.292924  124.398604   \n",
       "4  2023-01-09 00:00:00  128.485687  131.704009  128.229017  128.801602   \n",
       "\n",
       "      Volume Empresa   TKT  \n",
       "0  112117500   Apple  AAPL  \n",
       "1   89113600   Apple  AAPL  \n",
       "2   80962700   Apple  AAPL  \n",
       "3   87754700   Apple  AAPL  \n",
       "4   70790800   Apple  AAPL  "
      ]
     },
     "execution_count": 12,
     "metadata": {},
     "output_type": "execute_result"
    }
   ],
   "source": [
    "# Si queremos leer una tabla\n",
    "sql = \"\"\"SELECT * FROM `ucema-461612.ucema_2025.main_from_vs`\"\"\"\n",
    "df_bq = pd.read_gbq(sql, project_id='ucema-461612', credentials = bq_cred, dialect='standard') \n",
    "\n",
    "df_bq.head()"
   ]
  },
  {
   "cell_type": "code",
   "execution_count": 13,
   "metadata": {},
   "outputs": [
    {
     "data": {
      "text/plain": [
       "(4760, 8)"
      ]
     },
     "execution_count": 13,
     "metadata": {},
     "output_type": "execute_result"
    }
   ],
   "source": [
    "df_bq.shape"
   ]
  },
  {
   "cell_type": "code",
   "execution_count": null,
   "metadata": {},
   "outputs": [],
   "source": []
  }
 ],
 "metadata": {
  "kernelspec": {
   "display_name": "ETL_-_Clase_7-W5Ow2Haw",
   "language": "python",
   "name": "python3"
  },
  "language_info": {
   "codemirror_mode": {
    "name": "ipython",
    "version": 3
   },
   "file_extension": ".py",
   "mimetype": "text/x-python",
   "name": "python",
   "nbconvert_exporter": "python",
   "pygments_lexer": "ipython3",
   "version": "3.13.2"
  },
  "orig_nbformat": 4
 },
 "nbformat": 4,
 "nbformat_minor": 2
}
