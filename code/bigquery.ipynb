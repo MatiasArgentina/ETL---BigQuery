{
 "cells": [
  {
   "attachments": {},
   "cell_type": "markdown",
   "metadata": {},
   "source": [
    "## Leer data de una Base de Datos"
   ]
  },
  {
   "attachments": {},
   "cell_type": "markdown",
   "metadata": {},
   "source": [
    "### Cargo Paquetes Iniciales"
   ]
  },
  {
   "cell_type": "code",
   "execution_count": 1,
   "metadata": {},
   "outputs": [],
   "source": [
    "from functions.create_db import load_data, dict_Empresas, write_sql_main\n",
    "import pandas as pd\n",
    "import sqlite3"
   ]
  },
  {
   "cell_type": "markdown",
   "metadata": {},
   "source": [
    "### Cargo Datos (Clase Anterior)"
   ]
  },
  {
   "cell_type": "code",
   "execution_count": 2,
   "metadata": {},
   "outputs": [
    {
     "name": "stdout",
     "output_type": "stream",
     "text": [
      "YF.download() has changed argument auto_adjust default to True\n"
     ]
    },
    {
     "name": "stderr",
     "output_type": "stream",
     "text": [
      "[*********************100%***********************]  1 of 1 completed\n"
     ]
    },
    {
     "name": "stdout",
     "output_type": "stream",
     "text": [
      "Archivo Apple cargado exitosamente.\n"
     ]
    },
    {
     "name": "stderr",
     "output_type": "stream",
     "text": [
      "[*********************100%***********************]  1 of 1 completed\n"
     ]
    },
    {
     "name": "stdout",
     "output_type": "stream",
     "text": [
      "Archivo Microsoft cargado exitosamente.\n"
     ]
    },
    {
     "name": "stderr",
     "output_type": "stream",
     "text": [
      "[*********************100%***********************]  1 of 1 completed\n"
     ]
    },
    {
     "name": "stdout",
     "output_type": "stream",
     "text": [
      "Archivo Meta cargado exitosamente.\n"
     ]
    },
    {
     "name": "stderr",
     "output_type": "stream",
     "text": [
      "[*********************100%***********************]  1 of 1 completed"
     ]
    },
    {
     "name": "stdout",
     "output_type": "stream",
     "text": [
      "Archivo Tesla cargado exitosamente.\n"
     ]
    },
    {
     "name": "stderr",
     "output_type": "stream",
     "text": [
      "\n"
     ]
    }
   ],
   "source": [
    "df = load_data(dict_Empresas)"
   ]
  },
  {
   "cell_type": "code",
   "execution_count": 3,
   "metadata": {},
   "outputs": [
    {
     "data": {
      "text/html": [
       "<div>\n",
       "<style scoped>\n",
       "    .dataframe tbody tr th:only-of-type {\n",
       "        vertical-align: middle;\n",
       "    }\n",
       "\n",
       "    .dataframe tbody tr th {\n",
       "        vertical-align: top;\n",
       "    }\n",
       "\n",
       "    .dataframe thead th {\n",
       "        text-align: right;\n",
       "    }\n",
       "</style>\n",
       "<table border=\"1\" class=\"dataframe\">\n",
       "  <thead>\n",
       "    <tr style=\"text-align: right;\">\n",
       "      <th></th>\n",
       "      <th>Date</th>\n",
       "      <th>Close</th>\n",
       "      <th>High</th>\n",
       "      <th>Low</th>\n",
       "      <th>Open</th>\n",
       "      <th>Volume</th>\n",
       "      <th>Empresa</th>\n",
       "      <th>TKT</th>\n",
       "    </tr>\n",
       "  </thead>\n",
       "  <tbody>\n",
       "    <tr>\n",
       "      <th>0</th>\n",
       "      <td>2023-01-03</td>\n",
       "      <td>123.470619</td>\n",
       "      <td>129.226060</td>\n",
       "      <td>122.582127</td>\n",
       "      <td>128.613993</td>\n",
       "      <td>112117500</td>\n",
       "      <td>Apple</td>\n",
       "      <td>AAPL</td>\n",
       "    </tr>\n",
       "    <tr>\n",
       "      <th>1</th>\n",
       "      <td>2023-01-04</td>\n",
       "      <td>124.744125</td>\n",
       "      <td>127.014716</td>\n",
       "      <td>123.480495</td>\n",
       "      <td>125.267347</td>\n",
       "      <td>89113600</td>\n",
       "      <td>Apple</td>\n",
       "      <td>AAPL</td>\n",
       "    </tr>\n",
       "    <tr>\n",
       "      <th>2</th>\n",
       "      <td>2023-01-05</td>\n",
       "      <td>123.421249</td>\n",
       "      <td>126.136083</td>\n",
       "      <td>123.164580</td>\n",
       "      <td>125.504267</td>\n",
       "      <td>80962700</td>\n",
       "      <td>Apple</td>\n",
       "      <td>AAPL</td>\n",
       "    </tr>\n",
       "    <tr>\n",
       "      <th>3</th>\n",
       "      <td>2023-01-06</td>\n",
       "      <td>127.962433</td>\n",
       "      <td>128.623863</td>\n",
       "      <td>123.292924</td>\n",
       "      <td>124.398604</td>\n",
       "      <td>87754700</td>\n",
       "      <td>Apple</td>\n",
       "      <td>AAPL</td>\n",
       "    </tr>\n",
       "    <tr>\n",
       "      <th>4</th>\n",
       "      <td>2023-01-09</td>\n",
       "      <td>128.485687</td>\n",
       "      <td>131.704009</td>\n",
       "      <td>128.229017</td>\n",
       "      <td>128.801602</td>\n",
       "      <td>70790800</td>\n",
       "      <td>Apple</td>\n",
       "      <td>AAPL</td>\n",
       "    </tr>\n",
       "    <tr>\n",
       "      <th>...</th>\n",
       "      <td>...</td>\n",
       "      <td>...</td>\n",
       "      <td>...</td>\n",
       "      <td>...</td>\n",
       "      <td>...</td>\n",
       "      <td>...</td>\n",
       "      <td>...</td>\n",
       "      <td>...</td>\n",
       "    </tr>\n",
       "    <tr>\n",
       "      <th>590</th>\n",
       "      <td>2025-05-12</td>\n",
       "      <td>318.380005</td>\n",
       "      <td>322.209991</td>\n",
       "      <td>311.500000</td>\n",
       "      <td>321.989990</td>\n",
       "      <td>112826700</td>\n",
       "      <td>Tesla</td>\n",
       "      <td>TSLA</td>\n",
       "    </tr>\n",
       "    <tr>\n",
       "      <th>591</th>\n",
       "      <td>2025-05-13</td>\n",
       "      <td>334.070007</td>\n",
       "      <td>337.589996</td>\n",
       "      <td>316.799988</td>\n",
       "      <td>320.000000</td>\n",
       "      <td>136992600</td>\n",
       "      <td>Tesla</td>\n",
       "      <td>TSLA</td>\n",
       "    </tr>\n",
       "    <tr>\n",
       "      <th>592</th>\n",
       "      <td>2025-05-14</td>\n",
       "      <td>347.679993</td>\n",
       "      <td>350.000000</td>\n",
       "      <td>337.000000</td>\n",
       "      <td>342.500000</td>\n",
       "      <td>136997300</td>\n",
       "      <td>Tesla</td>\n",
       "      <td>TSLA</td>\n",
       "    </tr>\n",
       "    <tr>\n",
       "      <th>593</th>\n",
       "      <td>2025-05-15</td>\n",
       "      <td>342.820007</td>\n",
       "      <td>346.140015</td>\n",
       "      <td>334.720001</td>\n",
       "      <td>340.339996</td>\n",
       "      <td>97882600</td>\n",
       "      <td>Tesla</td>\n",
       "      <td>TSLA</td>\n",
       "    </tr>\n",
       "    <tr>\n",
       "      <th>594</th>\n",
       "      <td>2025-05-16</td>\n",
       "      <td>349.980011</td>\n",
       "      <td>351.619995</td>\n",
       "      <td>342.329987</td>\n",
       "      <td>346.239990</td>\n",
       "      <td>93811800</td>\n",
       "      <td>Tesla</td>\n",
       "      <td>TSLA</td>\n",
       "    </tr>\n",
       "  </tbody>\n",
       "</table>\n",
       "<p>2380 rows × 8 columns</p>\n",
       "</div>"
      ],
      "text/plain": [
       "          Date       Close        High         Low        Open     Volume  \\\n",
       "0   2023-01-03  123.470619  129.226060  122.582127  128.613993  112117500   \n",
       "1   2023-01-04  124.744125  127.014716  123.480495  125.267347   89113600   \n",
       "2   2023-01-05  123.421249  126.136083  123.164580  125.504267   80962700   \n",
       "3   2023-01-06  127.962433  128.623863  123.292924  124.398604   87754700   \n",
       "4   2023-01-09  128.485687  131.704009  128.229017  128.801602   70790800   \n",
       "..         ...         ...         ...         ...         ...        ...   \n",
       "590 2025-05-12  318.380005  322.209991  311.500000  321.989990  112826700   \n",
       "591 2025-05-13  334.070007  337.589996  316.799988  320.000000  136992600   \n",
       "592 2025-05-14  347.679993  350.000000  337.000000  342.500000  136997300   \n",
       "593 2025-05-15  342.820007  346.140015  334.720001  340.339996   97882600   \n",
       "594 2025-05-16  349.980011  351.619995  342.329987  346.239990   93811800   \n",
       "\n",
       "    Empresa   TKT  \n",
       "0     Apple  AAPL  \n",
       "1     Apple  AAPL  \n",
       "2     Apple  AAPL  \n",
       "3     Apple  AAPL  \n",
       "4     Apple  AAPL  \n",
       "..      ...   ...  \n",
       "590   Tesla  TSLA  \n",
       "591   Tesla  TSLA  \n",
       "592   Tesla  TSLA  \n",
       "593   Tesla  TSLA  \n",
       "594   Tesla  TSLA  \n",
       "\n",
       "[2380 rows x 8 columns]"
      ]
     },
     "execution_count": 3,
     "metadata": {},
     "output_type": "execute_result"
    }
   ],
   "source": [
    "df"
   ]
  },
  {
   "cell_type": "code",
   "execution_count": 4,
   "metadata": {},
   "outputs": [
    {
     "name": "stdout",
     "output_type": "stream",
     "text": [
      "Connected to SQLite\n",
      "The SQLite connection is closed\n"
     ]
    },
    {
     "data": {
      "text/plain": [
       "'ok'"
      ]
     },
     "execution_count": 4,
     "metadata": {},
     "output_type": "execute_result"
    }
   ],
   "source": [
    "write_sql_main(DB='../local/database/stock_db.db',\n",
    "               df = df,\n",
    "               table=\"main\")"
   ]
  },
  {
   "attachments": {},
   "cell_type": "markdown",
   "metadata": {},
   "source": [
    "### Leer Info de una Base de Datos"
   ]
  },
  {
   "cell_type": "code",
   "execution_count": 9,
   "metadata": {},
   "outputs": [],
   "source": [
    "#Me conecto a la Base de Datos\n",
    "conn = sqlite3.connect('../local/database/stock_db.db')"
   ]
  },
  {
   "cell_type": "code",
   "execution_count": 10,
   "metadata": {},
   "outputs": [
    {
     "data": {
      "text/html": [
       "<div>\n",
       "<style scoped>\n",
       "    .dataframe tbody tr th:only-of-type {\n",
       "        vertical-align: middle;\n",
       "    }\n",
       "\n",
       "    .dataframe tbody tr th {\n",
       "        vertical-align: top;\n",
       "    }\n",
       "\n",
       "    .dataframe thead th {\n",
       "        text-align: right;\n",
       "    }\n",
       "</style>\n",
       "<table border=\"1\" class=\"dataframe\">\n",
       "  <thead>\n",
       "    <tr style=\"text-align: right;\">\n",
       "      <th></th>\n",
       "      <th>name</th>\n",
       "    </tr>\n",
       "  </thead>\n",
       "  <tbody>\n",
       "    <tr>\n",
       "      <th>0</th>\n",
       "      <td>main</td>\n",
       "    </tr>\n",
       "  </tbody>\n",
       "</table>\n",
       "</div>"
      ],
      "text/plain": [
       "   name\n",
       "0  main"
      ]
     },
     "execution_count": 10,
     "metadata": {},
     "output_type": "execute_result"
    }
   ],
   "source": [
    "#¿Como ver las tablas de una BD?\n",
    "tables = pd.read_sql_query(\"SELECT name FROM sqlite_master WHERE type='table'\", conn)\n",
    "tables.head()"
   ]
  },
  {
   "cell_type": "code",
   "execution_count": 11,
   "metadata": {},
   "outputs": [
    {
     "data": {
      "text/html": [
       "<div>\n",
       "<style scoped>\n",
       "    .dataframe tbody tr th:only-of-type {\n",
       "        vertical-align: middle;\n",
       "    }\n",
       "\n",
       "    .dataframe tbody tr th {\n",
       "        vertical-align: top;\n",
       "    }\n",
       "\n",
       "    .dataframe thead th {\n",
       "        text-align: right;\n",
       "    }\n",
       "</style>\n",
       "<table border=\"1\" class=\"dataframe\">\n",
       "  <thead>\n",
       "    <tr style=\"text-align: right;\">\n",
       "      <th></th>\n",
       "      <th>Date</th>\n",
       "      <th>Close</th>\n",
       "      <th>High</th>\n",
       "      <th>Low</th>\n",
       "      <th>Open</th>\n",
       "      <th>Volume</th>\n",
       "      <th>Empresa</th>\n",
       "      <th>TKT</th>\n",
       "    </tr>\n",
       "  </thead>\n",
       "  <tbody>\n",
       "    <tr>\n",
       "      <th>0</th>\n",
       "      <td>2023-01-03 00:00:00</td>\n",
       "      <td>123.470619</td>\n",
       "      <td>129.226060</td>\n",
       "      <td>122.582127</td>\n",
       "      <td>128.613993</td>\n",
       "      <td>112117500</td>\n",
       "      <td>Apple</td>\n",
       "      <td>AAPL</td>\n",
       "    </tr>\n",
       "    <tr>\n",
       "      <th>1</th>\n",
       "      <td>2023-01-04 00:00:00</td>\n",
       "      <td>124.744125</td>\n",
       "      <td>127.014716</td>\n",
       "      <td>123.480495</td>\n",
       "      <td>125.267347</td>\n",
       "      <td>89113600</td>\n",
       "      <td>Apple</td>\n",
       "      <td>AAPL</td>\n",
       "    </tr>\n",
       "    <tr>\n",
       "      <th>2</th>\n",
       "      <td>2023-01-05 00:00:00</td>\n",
       "      <td>123.421249</td>\n",
       "      <td>126.136083</td>\n",
       "      <td>123.164580</td>\n",
       "      <td>125.504267</td>\n",
       "      <td>80962700</td>\n",
       "      <td>Apple</td>\n",
       "      <td>AAPL</td>\n",
       "    </tr>\n",
       "    <tr>\n",
       "      <th>3</th>\n",
       "      <td>2023-01-06 00:00:00</td>\n",
       "      <td>127.962433</td>\n",
       "      <td>128.623863</td>\n",
       "      <td>123.292924</td>\n",
       "      <td>124.398604</td>\n",
       "      <td>87754700</td>\n",
       "      <td>Apple</td>\n",
       "      <td>AAPL</td>\n",
       "    </tr>\n",
       "    <tr>\n",
       "      <th>4</th>\n",
       "      <td>2023-01-09 00:00:00</td>\n",
       "      <td>128.485687</td>\n",
       "      <td>131.704009</td>\n",
       "      <td>128.229017</td>\n",
       "      <td>128.801602</td>\n",
       "      <td>70790800</td>\n",
       "      <td>Apple</td>\n",
       "      <td>AAPL</td>\n",
       "    </tr>\n",
       "  </tbody>\n",
       "</table>\n",
       "</div>"
      ],
      "text/plain": [
       "                  Date       Close        High         Low        Open  \\\n",
       "0  2023-01-03 00:00:00  123.470619  129.226060  122.582127  128.613993   \n",
       "1  2023-01-04 00:00:00  124.744125  127.014716  123.480495  125.267347   \n",
       "2  2023-01-05 00:00:00  123.421249  126.136083  123.164580  125.504267   \n",
       "3  2023-01-06 00:00:00  127.962433  128.623863  123.292924  124.398604   \n",
       "4  2023-01-09 00:00:00  128.485687  131.704009  128.229017  128.801602   \n",
       "\n",
       "      Volume Empresa   TKT  \n",
       "0  112117500   Apple  AAPL  \n",
       "1   89113600   Apple  AAPL  \n",
       "2   80962700   Apple  AAPL  \n",
       "3   87754700   Apple  AAPL  \n",
       "4   70790800   Apple  AAPL  "
      ]
     },
     "execution_count": 11,
     "metadata": {},
     "output_type": "execute_result"
    }
   ],
   "source": [
    "#¿Como ver las tabla de compra_ventas?\n",
    "main_table = pd.read_sql_query(\"SELECT * FROM main\", conn)\n",
    "main_table.head()"
   ]
  },
  {
   "cell_type": "code",
   "execution_count": 12,
   "metadata": {},
   "outputs": [],
   "source": [
    "conn.close()"
   ]
  },
  {
   "cell_type": "markdown",
   "metadata": {},
   "source": [
    "## Export to csv"
   ]
  },
  {
   "cell_type": "code",
   "execution_count": 13,
   "metadata": {},
   "outputs": [],
   "source": [
    "main_table.to_csv('../local/csvs/stock_db.csv')"
   ]
  },
  {
   "attachments": {},
   "cell_type": "markdown",
   "metadata": {},
   "source": [
    "## Conexión con BigQuery"
   ]
  },
  {
   "cell_type": "code",
   "execution_count": 8,
   "metadata": {},
   "outputs": [
    {
     "data": {
      "text/plain": [
       "<google.oauth2.service_account.Credentials at 0x11b9cf310>"
      ]
     },
     "execution_count": 8,
     "metadata": {},
     "output_type": "execute_result"
    }
   ],
   "source": [
    "# Generamos conexion a BQ\n",
    "from google.oauth2 import service_account # para generar conexion con BigQuery\n",
    "#bq_cred = service_account.Credentials.from_service_account_file('../local/tokens/gcp_token2.json')\n",
    "bq_cred = service_account.Credentials.from_service_account_file('../local/tokens/gcp_token_clase.json')\n",
    "\n",
    "bq_cred"
   ]
  },
  {
   "cell_type": "code",
   "execution_count": 7,
   "metadata": {},
   "outputs": [
    {
     "data": {
      "text/html": [
       "<div>\n",
       "<style scoped>\n",
       "    .dataframe tbody tr th:only-of-type {\n",
       "        vertical-align: middle;\n",
       "    }\n",
       "\n",
       "    .dataframe tbody tr th {\n",
       "        vertical-align: top;\n",
       "    }\n",
       "\n",
       "    .dataframe thead th {\n",
       "        text-align: right;\n",
       "    }\n",
       "</style>\n",
       "<table border=\"1\" class=\"dataframe\">\n",
       "  <thead>\n",
       "    <tr style=\"text-align: right;\">\n",
       "      <th></th>\n",
       "      <th>index</th>\n",
       "      <th>Date</th>\n",
       "      <th>Open</th>\n",
       "      <th>High</th>\n",
       "      <th>Low</th>\n",
       "      <th>Close</th>\n",
       "      <th>Adj Close</th>\n",
       "      <th>Volume</th>\n",
       "      <th>Empresa</th>\n",
       "    </tr>\n",
       "  </thead>\n",
       "  <tbody>\n",
       "    <tr>\n",
       "      <th>0</th>\n",
       "      <td>0</td>\n",
       "      <td>2023-01-03</td>\n",
       "      <td>130.279999</td>\n",
       "      <td>130.899994</td>\n",
       "      <td>124.169998</td>\n",
       "      <td>125.070000</td>\n",
       "      <td>124.879326</td>\n",
       "      <td>112117500</td>\n",
       "      <td>Apple</td>\n",
       "    </tr>\n",
       "    <tr>\n",
       "      <th>1</th>\n",
       "      <td>1</td>\n",
       "      <td>2023-01-04</td>\n",
       "      <td>126.889999</td>\n",
       "      <td>128.660004</td>\n",
       "      <td>125.080002</td>\n",
       "      <td>126.360001</td>\n",
       "      <td>126.167366</td>\n",
       "      <td>89113600</td>\n",
       "      <td>Apple</td>\n",
       "    </tr>\n",
       "    <tr>\n",
       "      <th>2</th>\n",
       "      <td>2</td>\n",
       "      <td>2023-01-05</td>\n",
       "      <td>127.129997</td>\n",
       "      <td>127.769997</td>\n",
       "      <td>124.760002</td>\n",
       "      <td>125.019997</td>\n",
       "      <td>124.829399</td>\n",
       "      <td>80962700</td>\n",
       "      <td>Apple</td>\n",
       "    </tr>\n",
       "    <tr>\n",
       "      <th>3</th>\n",
       "      <td>3</td>\n",
       "      <td>2023-01-06</td>\n",
       "      <td>126.010002</td>\n",
       "      <td>130.289993</td>\n",
       "      <td>124.889999</td>\n",
       "      <td>129.619995</td>\n",
       "      <td>129.422394</td>\n",
       "      <td>87754700</td>\n",
       "      <td>Apple</td>\n",
       "    </tr>\n",
       "    <tr>\n",
       "      <th>4</th>\n",
       "      <td>4</td>\n",
       "      <td>2023-01-09</td>\n",
       "      <td>130.470001</td>\n",
       "      <td>133.410004</td>\n",
       "      <td>129.889999</td>\n",
       "      <td>130.149994</td>\n",
       "      <td>129.951584</td>\n",
       "      <td>70790800</td>\n",
       "      <td>Apple</td>\n",
       "    </tr>\n",
       "  </tbody>\n",
       "</table>\n",
       "</div>"
      ],
      "text/plain": [
       "   index        Date        Open        High         Low       Close  \\\n",
       "0      0  2023-01-03  130.279999  130.899994  124.169998  125.070000   \n",
       "1      1  2023-01-04  126.889999  128.660004  125.080002  126.360001   \n",
       "2      2  2023-01-05  127.129997  127.769997  124.760002  125.019997   \n",
       "3      3  2023-01-06  126.010002  130.289993  124.889999  129.619995   \n",
       "4      4  2023-01-09  130.470001  133.410004  129.889999  130.149994   \n",
       "\n",
       "    Adj Close     Volume Empresa  \n",
       "0  124.879326  112117500   Apple  \n",
       "1  126.167366   89113600   Apple  \n",
       "2  124.829399   80962700   Apple  \n",
       "3  129.422394   87754700   Apple  \n",
       "4  129.951584   70790800   Apple  "
      ]
     },
     "execution_count": 7,
     "metadata": {},
     "output_type": "execute_result"
    }
   ],
   "source": [
    "# Vemos que hay en \"main_table\"\n",
    "main_table.head()"
   ]
  },
  {
   "attachments": {},
   "cell_type": "markdown",
   "metadata": {},
   "source": [
    "### Cargar Datos en BQ"
   ]
  },
  {
   "cell_type": "code",
   "execution_count": 10,
   "metadata": {},
   "outputs": [],
   "source": [
    "# Enviamos el df a BQ - Podemos crear o reemplazar una tabla\n",
    "import pandas_gbq # para interactuar con BQ\n",
    "\n",
    "pandas_gbq.to_gbq(main_table, 'Test.clase2024', project_id= 'fantina-v1',\n",
    "                   if_exists= 'replace', credentials = bq_cred)"
   ]
  },
  {
   "cell_type": "code",
   "execution_count": 19,
   "metadata": {},
   "outputs": [],
   "source": [
    "# Si queremos anexar datos de una tabla en lugar de reemplazar\n",
    "pandas_gbq.to_gbq(main_table, 'Test.clase2024', project_id= 'fantina-v1',\n",
    "                   if_exists= 'append', credentials = bq_cred)"
   ]
  },
  {
   "cell_type": "code",
   "execution_count": 11,
   "metadata": {},
   "outputs": [],
   "source": [
    "# Renombramos la columna \"Adj Close\" a \"Adj_Close\"\n",
    "main_table = main_table.rename(columns={'Adj Close': 'Adj_Close'})\n",
    "\n",
    "pandas_gbq.to_gbq(main_table, 'Test.clase2024_v2', project_id= 'fantina-v1',\n",
    "                   if_exists= 'replace', credentials = bq_cred)"
   ]
  },
  {
   "attachments": {},
   "cell_type": "markdown",
   "metadata": {},
   "source": [
    "### Leer Datos de BQ"
   ]
  },
  {
   "cell_type": "code",
   "execution_count": 20,
   "metadata": {},
   "outputs": [
    {
     "name": "stderr",
     "output_type": "stream",
     "text": [
      "/var/folders/84/4j54nkt90_l921kzy5yzj1g00000gn/T/ipykernel_97388/652018203.py:3: FutureWarning: read_gbq is deprecated and will be removed in a future version. Please use pandas_gbq.read_gbq instead: https://pandas-gbq.readthedocs.io/en/latest/api.html#pandas_gbq.read_gbq\n",
      "  df_bq = pd.read_gbq(sql, project_id='fantina-v1', credentials = bq_cred, dialect='standard')\n"
     ]
    },
    {
     "data": {
      "text/html": [
       "<div>\n",
       "<style scoped>\n",
       "    .dataframe tbody tr th:only-of-type {\n",
       "        vertical-align: middle;\n",
       "    }\n",
       "\n",
       "    .dataframe tbody tr th {\n",
       "        vertical-align: top;\n",
       "    }\n",
       "\n",
       "    .dataframe thead th {\n",
       "        text-align: right;\n",
       "    }\n",
       "</style>\n",
       "<table border=\"1\" class=\"dataframe\">\n",
       "  <thead>\n",
       "    <tr style=\"text-align: right;\">\n",
       "      <th></th>\n",
       "      <th>index</th>\n",
       "      <th>Date</th>\n",
       "      <th>Open</th>\n",
       "      <th>High</th>\n",
       "      <th>Low</th>\n",
       "      <th>Close</th>\n",
       "      <th>Adj Close</th>\n",
       "      <th>Volume</th>\n",
       "      <th>Empresa</th>\n",
       "    </tr>\n",
       "  </thead>\n",
       "  <tbody>\n",
       "    <tr>\n",
       "      <th>0</th>\n",
       "      <td>0</td>\n",
       "      <td>2023-01-03</td>\n",
       "      <td>130.279999</td>\n",
       "      <td>130.899994</td>\n",
       "      <td>124.169998</td>\n",
       "      <td>125.070000</td>\n",
       "      <td>124.048050</td>\n",
       "      <td>112117500</td>\n",
       "      <td>Apple</td>\n",
       "    </tr>\n",
       "    <tr>\n",
       "      <th>1</th>\n",
       "      <td>1</td>\n",
       "      <td>2023-01-04</td>\n",
       "      <td>126.889999</td>\n",
       "      <td>128.660004</td>\n",
       "      <td>125.080002</td>\n",
       "      <td>126.360001</td>\n",
       "      <td>125.327507</td>\n",
       "      <td>89113600</td>\n",
       "      <td>Apple</td>\n",
       "    </tr>\n",
       "    <tr>\n",
       "      <th>2</th>\n",
       "      <td>2</td>\n",
       "      <td>2023-01-05</td>\n",
       "      <td>127.129997</td>\n",
       "      <td>127.769997</td>\n",
       "      <td>124.760002</td>\n",
       "      <td>125.019997</td>\n",
       "      <td>123.998459</td>\n",
       "      <td>80962700</td>\n",
       "      <td>Apple</td>\n",
       "    </tr>\n",
       "    <tr>\n",
       "      <th>3</th>\n",
       "      <td>3</td>\n",
       "      <td>2023-01-06</td>\n",
       "      <td>126.010002</td>\n",
       "      <td>130.289993</td>\n",
       "      <td>124.889999</td>\n",
       "      <td>129.619995</td>\n",
       "      <td>128.560867</td>\n",
       "      <td>87754700</td>\n",
       "      <td>Apple</td>\n",
       "    </tr>\n",
       "    <tr>\n",
       "      <th>4</th>\n",
       "      <td>4</td>\n",
       "      <td>2023-01-09</td>\n",
       "      <td>130.470001</td>\n",
       "      <td>133.410004</td>\n",
       "      <td>129.889999</td>\n",
       "      <td>130.149994</td>\n",
       "      <td>129.086533</td>\n",
       "      <td>70790800</td>\n",
       "      <td>Apple</td>\n",
       "    </tr>\n",
       "  </tbody>\n",
       "</table>\n",
       "</div>"
      ],
      "text/plain": [
       "   index        Date        Open        High         Low       Close  \\\n",
       "0      0  2023-01-03  130.279999  130.899994  124.169998  125.070000   \n",
       "1      1  2023-01-04  126.889999  128.660004  125.080002  126.360001   \n",
       "2      2  2023-01-05  127.129997  127.769997  124.760002  125.019997   \n",
       "3      3  2023-01-06  126.010002  130.289993  124.889999  129.619995   \n",
       "4      4  2023-01-09  130.470001  133.410004  129.889999  130.149994   \n",
       "\n",
       "    Adj Close     Volume Empresa  \n",
       "0  124.048050  112117500   Apple  \n",
       "1  125.327507   89113600   Apple  \n",
       "2  123.998459   80962700   Apple  \n",
       "3  128.560867   87754700   Apple  \n",
       "4  129.086533   70790800   Apple  "
      ]
     },
     "execution_count": 20,
     "metadata": {},
     "output_type": "execute_result"
    }
   ],
   "source": [
    "# Si queremos leer una tabla\n",
    "sql = \"\"\"SELECT * FROM `fantina-v1.Test.clase2024`\"\"\"\n",
    "df_bq = pd.read_gbq(sql, project_id='fantina-v1', credentials = bq_cred, dialect='standard') \n",
    "\n",
    "df_bq.head()"
   ]
  },
  {
   "cell_type": "code",
   "execution_count": null,
   "metadata": {},
   "outputs": [],
   "source": []
  }
 ],
 "metadata": {
  "kernelspec": {
   "display_name": "ETL_-_Clase_7-W5Ow2Haw",
   "language": "python",
   "name": "python3"
  },
  "language_info": {
   "codemirror_mode": {
    "name": "ipython",
    "version": 3
   },
   "file_extension": ".py",
   "mimetype": "text/x-python",
   "name": "python",
   "nbconvert_exporter": "python",
   "pygments_lexer": "ipython3",
   "version": "3.13.2"
  },
  "orig_nbformat": 4
 },
 "nbformat": 4,
 "nbformat_minor": 2
}
